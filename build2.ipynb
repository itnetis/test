{
 "cells": [
  {
   "cell_type": "code",
   "execution_count": 1,
   "id": "0d0d1190",
   "metadata": {},
   "outputs": [
    {
     "name": "stdout",
     "output_type": "stream",
     "text": [
      "Found PDFs: ['Data\\\\1mb.pdf', 'Data\\\\2mb.pdf', 'Data\\\\3-mb-sample-pdf-file.pdf', 'Data\\\\4-mb-example-file.pdf', 'Data\\\\40mb.pdf', 'Data\\\\5-mb-example-file.pdf', 'Data\\\\6mb.pdf', 'Data\\\\7mb.pdf', 'Data\\\\8mb.pdf']\n",
      "9\n"
     ]
    }
   ],
   "source": [
    "import os\n",
    "from langchain_community.vectorstores import FAISS\n",
    "from langchain_community.docstore.in_memory import InMemoryDocstore\n",
    "from langchain_ollama import OllamaEmbeddings\n",
    "from langchain_text_splitters import RecursiveCharacterTextSplitter\n",
    "from langchain_community.document_loaders import PyMuPDFLoader\n",
    "import faiss\n",
    "\n",
    "# --- Config ---\n",
    "PDF_FOLDER = \"Data\"\n",
    "MODEL_NAME = \"nomic-embed-text\"\n",
    "BASE_URL = \"http://localhost:11434\"\n",
    "SAVE_DIR = \"Testing_Big_data\"\n",
    "\n",
    "os.makedirs(SAVE_DIR, exist_ok=True)\n",
    "\n",
    "# --- Load PDFs ---\n",
    "pdfs = [\n",
    "    os.path.join(root, file)\n",
    "    for root, dirs, files in os.walk(PDF_FOLDER)\n",
    "    for file in files\n",
    "    if file.endswith(\".pdf\")\n",
    "]\n",
    "\n",
    "print(f\"Found PDFs: {pdfs}\")\n",
    "print(len(pdfs))"
   ]
  },
  {
   "cell_type": "code",
   "execution_count": 2,
   "id": "65d8a828",
   "metadata": {},
   "outputs": [],
   "source": [
    "\n",
    "# Load documents with PyMuPDFLoader\n",
    "from langchain.schema import Document\n",
    "\n",
    "docs = []\n",
    "for pdf in pdfs:\n",
    "    loader = PyMuPDFLoader(pdf)\n",
    "    pages = loader.load()\n",
    "    for page in pages:\n",
    "        # Add metadata, e.g., source PDF and page number\n",
    "        page.metadata[\"source\"] = pdf\n",
    "        page.metadata[\"page\"] = page.metadata.get(\"page\", None)  # if available\n",
    "        docs.append(page)\n"
   ]
  },
  {
   "cell_type": "code",
   "execution_count": 3,
   "id": "d5864c10",
   "metadata": {},
   "outputs": [
    {
     "name": "stdout",
     "output_type": "stream",
     "text": [
      "Split into 52686 chunks\n"
     ]
    }
   ],
   "source": [
    "\n",
    "# --- Chunk documents ---\n",
    "text_splitter = RecursiveCharacterTextSplitter(chunk_size=1000, chunk_overlap=100)\n",
    "chunks = text_splitter.split_documents(docs)\n",
    "print(f\"Split into {len(chunks)} chunks\")\n"
   ]
  },
  {
   "cell_type": "code",
   "execution_count": 4,
   "id": "c1ce0b20",
   "metadata": {},
   "outputs": [],
   "source": [
    "\n",
    "# --- Embedding model ---\n",
    "embedding_model = OllamaEmbeddings(model=MODEL_NAME, base_url=BASE_URL)"
   ]
  },
  {
   "cell_type": "code",
   "execution_count": 5,
   "id": "1eb23222",
   "metadata": {},
   "outputs": [
    {
     "name": "stdout",
     "output_type": "stream",
     "text": [
      "Embedding dimension: 768\n"
     ]
    }
   ],
   "source": [
    "# Get vector dimension from sample embedding\n",
    "sample_embedding = embedding_model.embed_query(\"test\")\n",
    "dim = len(sample_embedding)\n",
    "print(f\"Embedding dimension: {dim}\")"
   ]
  },
  {
   "cell_type": "code",
   "execution_count": 6,
   "id": "bafb9d6a",
   "metadata": {},
   "outputs": [],
   "source": [
    "\n",
    "# --- Create FAISS index ---\n",
    "index = faiss.IndexFlatL2(dim)\n",
    "\n",
    "# --- Create vector store ---\n",
    "vector_store = FAISS(\n",
    "    embedding_function=embedding_model,\n",
    "    index=index,\n",
    "    docstore=InMemoryDocstore(),\n",
    "    index_to_docstore_id={}\n",
    ")"
   ]
  },
  {
   "cell_type": "code",
   "execution_count": null,
   "id": "b8dcbe28",
   "metadata": {},
   "outputs": [],
   "source": [
    "# Add docs to vector store\n",
    "ids = vector_store.add_documents(chunks)\n",
    "print(f\"Added {len(ids)} documents to vector store\")\n"
   ]
  },
  {
   "cell_type": "code",
   "execution_count": null,
   "id": "4e2625a6",
   "metadata": {},
   "outputs": [],
   "source": [
    "\n",
    "# Save FAISS index + metadata\n",
    "vector_store.save_local(SAVE_DIR)\n",
    "print(f\"Saved vector store to {SAVE_DIR}\")"
   ]
  }
 ],
 "metadata": {
  "kernelspec": {
   "display_name": "Python 3",
   "language": "python",
   "name": "python3"
  },
  "language_info": {
   "codemirror_mode": {
    "name": "ipython",
    "version": 3
   },
   "file_extension": ".py",
   "mimetype": "text/x-python",
   "name": "python",
   "nbconvert_exporter": "python",
   "pygments_lexer": "ipython3",
   "version": "3.13.2"
  }
 },
 "nbformat": 4,
 "nbformat_minor": 5
}
